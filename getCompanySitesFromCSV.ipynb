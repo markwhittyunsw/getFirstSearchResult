{
  "nbformat": 4,
  "nbformat_minor": 0,
  "metadata": {
    "colab": {
      "name": "getCompanySitesFromCSV.ipynb",
      "provenance": [],
      "collapsed_sections": [],
      "authorship_tag": "ABX9TyOgXKBzl4yI6juhh7GssV4v",
      "include_colab_link": true
    },
    "kernelspec": {
      "name": "python3",
      "display_name": "Python 3"
    }
  },
  "cells": [
    {
      "cell_type": "markdown",
      "metadata": {
        "id": "view-in-github",
        "colab_type": "text"
      },
      "source": [
        "<a href=\"https://colab.research.google.com/github/markwhittyunsw/getFirstSearchResult/blob/master/getCompanySitesFromCSV.ipynb\" target=\"_parent\"><img src=\"https://colab.research.google.com/assets/colab-badge.svg\" alt=\"Open In Colab\"/></a>"
      ]
    },
    {
      "cell_type": "code",
      "metadata": {
        "id": "cqmAyoxGfYZJ",
        "colab_type": "code",
        "colab": {
          "base_uri": "https://localhost:8080/",
          "height": 292
        },
        "outputId": "30a9d397-ead4-4ab9-e7da-d622e5a3fbcb"
      },
      "source": [
        "import requests\n",
        "from bs4 import BeautifulSoup\n",
        "import re\n",
        "import pandas as pd\n",
        "\n",
        "\n",
        "\n",
        "import csv\n",
        "\n",
        "with open('/content/20200528 Industrial Training Company Record.csv', newline='') as f:\n",
        "    reader = csv.reader(f)\n",
        "    data = list(reader)\n",
        "\n",
        "print(data)\n",
        "\n",
        "searchTermList = data  # [\"A.W.BELL\", \"test\"]\n",
        "# Creating a dataframe object from listoftuples\n",
        "dfObj = pd.DataFrame(columns=['Search terms', 'link', 'title', 'description'])\n",
        "\n",
        "for searchTerm in searchTermList:\n",
        "\n",
        "  google_url = \"https://www.google.com/search?q=\" + searchTerm[0] + \"&num=\" + str(1)\n",
        "  response = requests.get(google_url, {\"User-Agent\": \"Mozilla/5.0 (iPad; U; CPU OS 3_2_1 like Mac OS X; en-us) AppleWebKit/531.21.10 (KHTML, like Gecko) Mobile/7B405\"})\n",
        "  soup = BeautifulSoup(response.text, \"html.parser\")\n",
        "\n",
        "  result_div = soup.find_all('div', attrs = {'class': 'ZINbbc'})\n",
        "\n",
        "  links = []\n",
        "  titles = []\n",
        "  descriptions = []\n",
        "  for r in result_div:\n",
        "      # Checks if each element is present, else, raise exception\n",
        "      try:\n",
        "          link = r.find('a', href = True)\n",
        "          title = r.find('div', attrs={'class':'vvjwJb'}).get_text()\n",
        "          description = r.find('div', attrs={'class':'s3v9rd'}).get_text()\n",
        "          \n",
        "          # Check to make sure everything is present before appending\n",
        "          if link != '' and title != '' and description != '': \n",
        "              links.append(link['href'])\n",
        "              titles.append(title)\n",
        "              descriptions.append(description)\n",
        "      # Next loop if one element is not present\n",
        "      except:\n",
        "          continue\n",
        "\n",
        "  to_remove = []\n",
        "  clean_links = []\n",
        "  for i, l in enumerate(links):\n",
        "      clean = re.search('\\/url\\?q\\=(.*)\\&sa',l)\n",
        "\n",
        "      # Anything that doesn't fit the above pattern will be removed\n",
        "      if clean is None:\n",
        "          to_remove.append(i)\n",
        "          continue\n",
        "      clean_links.append(clean.group(1))\n",
        "\n",
        "  # Remove the corresponding titles & descriptions\n",
        "  for x in to_remove:\n",
        "      del titles[x]\n",
        "      del descriptions[x]\n",
        "\n",
        "  #print(links)\n",
        "  #print(title)\n",
        "  #print(description)\n",
        "\n",
        "  newItem = [ (searchTerm, links, title, description) ]\n",
        "  \n",
        "  #Create a DataFrame object\n",
        "  dfObj2 = pd.DataFrame(newItem, columns=['Search terms', 'link', 'title', 'description']) \n",
        "\n",
        "  dfObj = dfObj.append(dfObj2) \n",
        "print(dfObj)\n",
        "dfObj.to_csv('/content/links.csv')\n",
        "\n",
        "\n"
      ],
      "execution_count": 22,
      "outputs": [
        {
          "output_type": "stream",
          "text": [
            "[['\\ufeffA W  BELL MACHINERY PTY  LTD '], ['Abergeldie Rehabilitation Pty Ltd'], ['Abyss Solutions'], ['ACACIA SYSTEMS PTY LTD'], ['Accenture'], ['Accredited Energy Consultants PTY  LTD'], ['ADVANCED POWER DRIVES PTY  LTD '], ['Agerris'], ['Air Liquide Healthcare'], ['AIR LIQUIDE HEALTHCARE PTY  LTD ;MEDICAL GASES AUSTRALIA'], ['AMAZON WEB SERVICES AUSTRALIA PTY LTD'], ['AMP Capital'], ['Anamise Pty Ltd'], ['APEX AUTOMATION   ROBOTICS PTY LTD'], ['Appian'], ['Atlassian Pty Ltd'], ['Atos  Australia  Pty Ltd'], ['Aurecon Australasia PTY LTD'], ['AusDiagnostics PTY LTD'], ['Australian Nuclear Science and Technology Organisation'], ['Autumn Compass'], ['AZTI Technology  M  Sdn  Bhd '], ['Basari Enerji'], ['BASEPLAN SOFTWARE PTY  LIMITED'], ['Bayestree'], ['Beijing Jingwei HiRain  Co  Ltd '], ['BlueSat UNSW'], ['Cathay Pacific'], ['Catholic Education Diocese of Parramatta'], ['Chemtronics'], ['Chinese Light and Power Limited'], ['CISCO SYSTEMS AUSTRALIA PTY LIMITED'], ['Classic Coachworks'], ['Cochlear Limited'], ['Coffey Services Australia Pty Ltd'], ['Collaborative Robots Australia PTY LTD  Trading as  The Robot People '], ['COMAC Shanghai Aircraft Customer Service Co Ltd'], ['Commonwealth Bank of Australia'], ['CSIRO  Commonwealth Scientific and Industrial Research Organisation '], ['Cubic Transportation Systems'], ['D TECH-ENGINEERING PTY LIMITED'], ['Dalian Yuncheng plate-making Co Ltd'], ['DarkMatter AI Inc '], ['Defence Science and Technology'], ['DEFENCE SCIENCE AND TECHNOLOGY CONSULTING PTY LTD'], ['DELOITTE  AUSTRALIA  PTY LIMITED'], ['Deloitte Touche Tohmatsu'], ['Delonia Software'], ['Dematic Pty Ltd'], ['Department of Industry Innovation and Science'], ['Device Technologies'], ['Digital Reign'], ['Dimuto'], ['Drink Lavit'], ['ECO 3 Pty Ltd '], ['eHealth NSW'], ['Engineering World Health'], ['ETP ION DETECT PTY LTD'], ['EUROFIELD INFORMATION SOLUTIONS PTY  LTD '], ['EWH Summer Institute'], ['Fiona Digital '], ['FIRE CONTAINMENT PTY LTD'], ['Foshan Institute of Intelligent Equipment and Technology'], ['GAC motor Research and Design Centre'], ['Genetec Technology Berhad'], ['GlaxoSmithKline  GSK '], ['Global Orthopaedic Technology'], ['Google Australia PTY LTD'], ['Guangdong Baling Technology Co   Ltd '], ['Guangzhou Mechanical Engineering Research Institute Company Limited'], ['Guangzhou Soyawa Bio-Technology Co  Ltd'], ['Hangzhou Chixiao Technology Co  Ltd '], ['Harbin Turbine Auxiliary Equipment Engineering Co   Ltd '], ['HONEYWELL LTD'], ['Huashu Institute of Intelligent Equipment and Technology'], ['Incat Crowther Pty Ltd'], ['IndoInternet  PT   Indonet '], ['Innovation Central Sydney'], ['Intense Software Pty Ltd'], ['Inventia Life Science'], ['JACOBS GROUP  AUSTRALIA  PTY LTD'], ['James Hardie Research Pty  Ltd '], ['JAR Aerospace'], ['Jiangsu Hoperun Software Company'], ['JiangXi ChangMao Electrical Service Limit'], ['Jiaxing Junquan Automation Co   Ltd'], ['Jinan Yiheng Technology Co  Ltd'], ['John Holland Group'], ['KBM PROJECTS PTY LIMITED'], ['KOMATSU AUSTRALIA PTY LTD'], ['KPMG Australia Pty Limited'], ['Larsen   Toubro Limited'], ['Lendlease Engineering Pty Limited'], ['Lianyungang Yingyou Textile Group'], ['Lion Pty'], ['Loop '], ['LX Group'], ['Max Automation'], ['Memphasys Ltd'], ['Mine Site Technologies Pty  Limited'], ['MP HIGH TECH SOLUTIONS PTY  LTD '], ['Nanjing Jiurun'], ['Nanosonics Limited'], ['NASDAQ'], ['Nestle'], ['Netherlands Organisation for Applied Scientific Research  TNO '], ['Noculate'], ['NXTGEN Industries'], ['OCULAR ROBOTICS LIMITED'], ['Omron Electronics Pty Ltd'], ['OMRON INDUSTRIAL AUTOMATION  CHINA  CO   LTD'], ['Palantir'], ['Panasonic Appliances Washing Machine  Hangzhou  Co   Ltd '], ['PANDA CONSTRUCTION GROUP PTY LTD'], ['Project Everest Ventures'], ['Provecta'], ['PT Solas Langgeng Sejahtera'], ['PT  JAPFA COMFEED INDONESIA Tbk'], ['Public Works Advisory'], ['Qantas Airways Limited'], ['Qingdao Aisino Co  Ltd'], ['Quantifi Australia Pty Limited'], ['r2p Asia-Pacific'], ['Ramp RFID'], ['Raytheon Australia PTY LTD'], ['ResMed'], ['Ricardo Rail Australia PTY LTD'], ['RIOTPLAN PTY LTD'], ['Royal Australian Navy'], ['Sabre Medical Pty Ltd'], ['Santos'], ['Sanya Motorcycle Co  Ltd'], ['Save Our Sons Duchenne Foundation'], ['Schneider and Company'], ['Schneider Electric'], ['Sentient Vision Systems Pty Ltd'], ['Siam Integration Systems Company Limited'], ['Siemens Malaysia Sdn Bhd'], ['Sino Easy View Information Technology Co  Ltd'], ['SiSU Health Group '], ['SITEHIVE PTY LTD'], ['Slate Science Operations Pty Ltd'], ['SMEC AUSTRALIA PTY  LIMITED'], ['Space Ops Australia'], ['Sparesbox'], ['Strategic Engineering Pty Limited'], ['Suncorp Group Limited'], ['Swisslog '], ['Sydney Motorway Corporation '], ['Sydney Scientific Pty LTD'], ['Sydney Trains'], ['SYSTRA Scott Lister'], ['T3Q co  Ltd'], ['Tech Innovasi Sdb  Bhd '], ['Telstra Corporation Limited'], ['Tenaga Nasional Berhad'], ['Tesla'], ['Thales Australia'], ['The Childrens Hospital Westmead'], ['The Robot People'], ['The University of Sydney'], ['TNBR QATS Sdn  Bhd '], ['Transport for NSW'], ['ubtech'], ['University of New South Wales'], ['UNSW Competitive Robotics Group'], ['V-DAQ'], ['Vestech Cryptych Pty Ltd'], ['Vtech Communiction  Malaysia  SDN BHD'], ['Warren Smith and Partners'], ['WCX M5 PT PTY LTD'], ['Webstercare'], ['Welbot Technology Limited'], ['Woolworths Group'], ['WYWMRobotics PTY LTD'], ['Xian Alstom Yongji Electric Equipment Co  Ltd '], ['Zhengzhou Zhicheng Precision Machinery Co   Ltd  '], ['ZHW micro limited company'], ['Zhejiang Nade Scientific Instrument Co   Ltd ']]\n",
            "                                         Search terms  ...                                        description\n",
            "0                    [﻿A W  BELL MACHINERY PTY  LTD ]  ...  \"The RGS430 provided as much as a 70% reductio...\n",
            "0                 [Abergeldie Rehabilitation Pty Ltd]  ...  Abergeldie designs, and delivers complex infra...\n",
            "0                                   [Abyss Solutions]  ...  Abyss Solutions revolutionises the industry la...\n",
            "0                            [ACACIA SYSTEMS PTY LTD]  ...  Supporting the Australian Defence Force since ...\n",
            "0                                         [Accenture]  ...  Accenture unlocks opportunity by harnessing th...\n",
            "..                                                ...  ...                                                ...\n",
            "0                              [WYWMRobotics PTY LTD]  ...  Entity name: WYWMROBOTICS PTY LTD. ABN status:...\n",
            "0    [Xian Alstom Yongji Electric Equipment Co  Ltd ]  ...  Company profile page for Xi'an Alstom Yongji E...\n",
            "0   [Zhengzhou Zhicheng Precision Machinery Co   L...  ...  Zhengzhou sofine precision machinery co., ltd....\n",
            "0                         [ZHW micro limited company]  ...  Micro-entities, small and dormant companies. Y...\n",
            "0     [Zhejiang Nade Scientific Instrument Co   Ltd ]  ...  Providing full range of scientific instruments...\n",
            "\n",
            "[179 rows x 4 columns]\n"
          ],
          "name": "stdout"
        }
      ]
    }
  ]
}